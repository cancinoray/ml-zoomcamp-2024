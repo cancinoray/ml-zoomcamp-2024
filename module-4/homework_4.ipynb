{
  "cells": [
    {
      "cell_type": "code",
      "execution_count": 1,
      "metadata": {
        "id": "ECAHBvpkIMvG"
      },
      "outputs": [],
      "source": [
        "#@ IMPORTING LIBRARIES AND DEPENDENCIES:\n",
        "import pandas as pd\n",
        "import numpy as np\n",
        "\n",
        "import matplotlib.pyplot as plt\n",
        "import seaborn as sns\n",
        "\n",
        "# from sklearn.preprocessing import LabelEncoder\n",
        "from sklearn.model_selection import train_test_split\n",
        "\n",
        "from sklearn.metrics import roc_auc_score\n",
        "from sklearn.metrics import roc_curve\n",
        "\n",
        "from sklearn.feature_extraction import DictVectorizer\n",
        "from sklearn.linear_model import LogisticRegression\n",
        "from sklearn.model_selection import KFold\n",
        "\n",
        "%matplotlib inline"
      ]
    },
    {
      "cell_type": "code",
      "execution_count": 2,
      "metadata": {
        "colab": {
          "base_uri": "https://localhost:8080/"
        },
        "id": "ZDTWz-TUNaYl",
        "outputId": "dc4309f9-6037-40a0-c344-6ca08909024c"
      },
      "outputs": [
        {
          "name": "stdout",
          "output_type": "stream",
          "text": [
            "--2024-10-23 15:51:07--  https://raw.githubusercontent.com/alexeygrigorev/datasets/master/AER_credit_card_data.csv\n",
            "Resolving raw.githubusercontent.com (raw.githubusercontent.com)... 185.199.111.133, 185.199.109.133, 185.199.110.133, ...\n",
            "Connecting to raw.githubusercontent.com (raw.githubusercontent.com)|185.199.111.133|:443... connected.\n",
            "HTTP request sent, awaiting response... 200 OK\n",
            "Length: 73250 (72K) [text/plain]\n",
            "Saving to: ‘data.csv’\n",
            "\n",
            "data.csv            100%[===================>]  71.53K  --.-KB/s    in 0.03s   \n",
            "\n",
            "2024-10-23 15:51:08 (2.11 MB/s) - ‘data.csv’ saved [73250/73250]\n",
            "\n"
          ]
        }
      ],
      "source": [
        "#@ GETTING THE DATASET:\n",
        "!wget https://raw.githubusercontent.com/alexeygrigorev/datasets/master/AER_credit_card_data.csv -O data.csv"
      ]
    },
    {
      "cell_type": "code",
      "execution_count": 3,
      "metadata": {
        "colab": {
          "base_uri": "https://localhost:8080/",
          "height": 363
        },
        "id": "tNTMUkhkNvUj",
        "outputId": "6394148e-714d-4fb1-b856-4b2f6b4c9e44"
      },
      "outputs": [
        {
          "data": {
            "text/html": [
              "<div>\n",
              "<style scoped>\n",
              "    .dataframe tbody tr th:only-of-type {\n",
              "        vertical-align: middle;\n",
              "    }\n",
              "\n",
              "    .dataframe tbody tr th {\n",
              "        vertical-align: top;\n",
              "    }\n",
              "\n",
              "    .dataframe thead th {\n",
              "        text-align: right;\n",
              "    }\n",
              "</style>\n",
              "<table border=\"1\" class=\"dataframe\">\n",
              "  <thead>\n",
              "    <tr style=\"text-align: right;\">\n",
              "      <th></th>\n",
              "      <th>card</th>\n",
              "      <th>reports</th>\n",
              "      <th>age</th>\n",
              "      <th>income</th>\n",
              "      <th>share</th>\n",
              "      <th>expenditure</th>\n",
              "      <th>owner</th>\n",
              "      <th>selfemp</th>\n",
              "      <th>dependents</th>\n",
              "      <th>months</th>\n",
              "      <th>majorcards</th>\n",
              "      <th>active</th>\n",
              "    </tr>\n",
              "  </thead>\n",
              "  <tbody>\n",
              "    <tr>\n",
              "      <th>0</th>\n",
              "      <td>yes</td>\n",
              "      <td>0</td>\n",
              "      <td>37.66667</td>\n",
              "      <td>4.5200</td>\n",
              "      <td>0.033270</td>\n",
              "      <td>124.983300</td>\n",
              "      <td>yes</td>\n",
              "      <td>no</td>\n",
              "      <td>3</td>\n",
              "      <td>54</td>\n",
              "      <td>1</td>\n",
              "      <td>12</td>\n",
              "    </tr>\n",
              "    <tr>\n",
              "      <th>1</th>\n",
              "      <td>yes</td>\n",
              "      <td>0</td>\n",
              "      <td>33.25000</td>\n",
              "      <td>2.4200</td>\n",
              "      <td>0.005217</td>\n",
              "      <td>9.854167</td>\n",
              "      <td>no</td>\n",
              "      <td>no</td>\n",
              "      <td>3</td>\n",
              "      <td>34</td>\n",
              "      <td>1</td>\n",
              "      <td>13</td>\n",
              "    </tr>\n",
              "    <tr>\n",
              "      <th>2</th>\n",
              "      <td>yes</td>\n",
              "      <td>0</td>\n",
              "      <td>33.66667</td>\n",
              "      <td>4.5000</td>\n",
              "      <td>0.004156</td>\n",
              "      <td>15.000000</td>\n",
              "      <td>yes</td>\n",
              "      <td>no</td>\n",
              "      <td>4</td>\n",
              "      <td>58</td>\n",
              "      <td>1</td>\n",
              "      <td>5</td>\n",
              "    </tr>\n",
              "    <tr>\n",
              "      <th>3</th>\n",
              "      <td>yes</td>\n",
              "      <td>0</td>\n",
              "      <td>30.50000</td>\n",
              "      <td>2.5400</td>\n",
              "      <td>0.065214</td>\n",
              "      <td>137.869200</td>\n",
              "      <td>no</td>\n",
              "      <td>no</td>\n",
              "      <td>0</td>\n",
              "      <td>25</td>\n",
              "      <td>1</td>\n",
              "      <td>7</td>\n",
              "    </tr>\n",
              "    <tr>\n",
              "      <th>4</th>\n",
              "      <td>yes</td>\n",
              "      <td>0</td>\n",
              "      <td>32.16667</td>\n",
              "      <td>9.7867</td>\n",
              "      <td>0.067051</td>\n",
              "      <td>546.503300</td>\n",
              "      <td>yes</td>\n",
              "      <td>no</td>\n",
              "      <td>2</td>\n",
              "      <td>64</td>\n",
              "      <td>1</td>\n",
              "      <td>5</td>\n",
              "    </tr>\n",
              "    <tr>\n",
              "      <th>5</th>\n",
              "      <td>yes</td>\n",
              "      <td>0</td>\n",
              "      <td>23.25000</td>\n",
              "      <td>2.5000</td>\n",
              "      <td>0.044438</td>\n",
              "      <td>91.996670</td>\n",
              "      <td>no</td>\n",
              "      <td>no</td>\n",
              "      <td>0</td>\n",
              "      <td>54</td>\n",
              "      <td>1</td>\n",
              "      <td>1</td>\n",
              "    </tr>\n",
              "    <tr>\n",
              "      <th>6</th>\n",
              "      <td>yes</td>\n",
              "      <td>0</td>\n",
              "      <td>27.91667</td>\n",
              "      <td>3.9600</td>\n",
              "      <td>0.012576</td>\n",
              "      <td>40.833330</td>\n",
              "      <td>no</td>\n",
              "      <td>no</td>\n",
              "      <td>2</td>\n",
              "      <td>7</td>\n",
              "      <td>1</td>\n",
              "      <td>5</td>\n",
              "    </tr>\n",
              "    <tr>\n",
              "      <th>7</th>\n",
              "      <td>yes</td>\n",
              "      <td>0</td>\n",
              "      <td>29.16667</td>\n",
              "      <td>2.3700</td>\n",
              "      <td>0.076434</td>\n",
              "      <td>150.790000</td>\n",
              "      <td>yes</td>\n",
              "      <td>no</td>\n",
              "      <td>0</td>\n",
              "      <td>77</td>\n",
              "      <td>1</td>\n",
              "      <td>3</td>\n",
              "    </tr>\n",
              "    <tr>\n",
              "      <th>8</th>\n",
              "      <td>yes</td>\n",
              "      <td>0</td>\n",
              "      <td>37.00000</td>\n",
              "      <td>3.8000</td>\n",
              "      <td>0.245628</td>\n",
              "      <td>777.821700</td>\n",
              "      <td>yes</td>\n",
              "      <td>no</td>\n",
              "      <td>0</td>\n",
              "      <td>97</td>\n",
              "      <td>1</td>\n",
              "      <td>6</td>\n",
              "    </tr>\n",
              "    <tr>\n",
              "      <th>9</th>\n",
              "      <td>yes</td>\n",
              "      <td>0</td>\n",
              "      <td>28.41667</td>\n",
              "      <td>3.2000</td>\n",
              "      <td>0.019780</td>\n",
              "      <td>52.580000</td>\n",
              "      <td>no</td>\n",
              "      <td>no</td>\n",
              "      <td>0</td>\n",
              "      <td>65</td>\n",
              "      <td>1</td>\n",
              "      <td>18</td>\n",
              "    </tr>\n",
              "  </tbody>\n",
              "</table>\n",
              "</div>"
            ],
            "text/plain": [
              "  card  reports       age  income     share  expenditure owner selfemp  \\\n",
              "0  yes        0  37.66667  4.5200  0.033270   124.983300   yes      no   \n",
              "1  yes        0  33.25000  2.4200  0.005217     9.854167    no      no   \n",
              "2  yes        0  33.66667  4.5000  0.004156    15.000000   yes      no   \n",
              "3  yes        0  30.50000  2.5400  0.065214   137.869200    no      no   \n",
              "4  yes        0  32.16667  9.7867  0.067051   546.503300   yes      no   \n",
              "5  yes        0  23.25000  2.5000  0.044438    91.996670    no      no   \n",
              "6  yes        0  27.91667  3.9600  0.012576    40.833330    no      no   \n",
              "7  yes        0  29.16667  2.3700  0.076434   150.790000   yes      no   \n",
              "8  yes        0  37.00000  3.8000  0.245628   777.821700   yes      no   \n",
              "9  yes        0  28.41667  3.2000  0.019780    52.580000    no      no   \n",
              "\n",
              "   dependents  months  majorcards  active  \n",
              "0           3      54           1      12  \n",
              "1           3      34           1      13  \n",
              "2           4      58           1       5  \n",
              "3           0      25           1       7  \n",
              "4           2      64           1       5  \n",
              "5           0      54           1       1  \n",
              "6           2       7           1       5  \n",
              "7           0      77           1       3  \n",
              "8           0      97           1       6  \n",
              "9           0      65           1      18  "
            ]
          },
          "execution_count": 3,
          "metadata": {},
          "output_type": "execute_result"
        }
      ],
      "source": [
        "#@ READING THE DATASET:\n",
        "data = pd.read_csv('data.csv')\n",
        "data.columns = data.columns.str.lower()\n",
        "data.head(10)"
      ]
    },
    {
      "cell_type": "code",
      "execution_count": 4,
      "metadata": {
        "colab": {
          "base_uri": "https://localhost:8080/",
          "height": 363
        },
        "id": "Cv8HlcfQ8yMf",
        "outputId": "0ceefd98-c63f-4fc9-9efb-be7400daabb6"
      },
      "outputs": [
        {
          "data": {
            "text/html": [
              "<div>\n",
              "<style scoped>\n",
              "    .dataframe tbody tr th:only-of-type {\n",
              "        vertical-align: middle;\n",
              "    }\n",
              "\n",
              "    .dataframe tbody tr th {\n",
              "        vertical-align: top;\n",
              "    }\n",
              "\n",
              "    .dataframe thead th {\n",
              "        text-align: right;\n",
              "    }\n",
              "</style>\n",
              "<table border=\"1\" class=\"dataframe\">\n",
              "  <thead>\n",
              "    <tr style=\"text-align: right;\">\n",
              "      <th></th>\n",
              "      <th>card</th>\n",
              "      <th>reports</th>\n",
              "      <th>age</th>\n",
              "      <th>income</th>\n",
              "      <th>share</th>\n",
              "      <th>expenditure</th>\n",
              "      <th>owner</th>\n",
              "      <th>selfemp</th>\n",
              "      <th>dependents</th>\n",
              "      <th>months</th>\n",
              "      <th>majorcards</th>\n",
              "      <th>active</th>\n",
              "    </tr>\n",
              "  </thead>\n",
              "  <tbody>\n",
              "    <tr>\n",
              "      <th>0</th>\n",
              "      <td>1</td>\n",
              "      <td>0</td>\n",
              "      <td>37.66667</td>\n",
              "      <td>4.5200</td>\n",
              "      <td>0.033270</td>\n",
              "      <td>124.983300</td>\n",
              "      <td>yes</td>\n",
              "      <td>no</td>\n",
              "      <td>3</td>\n",
              "      <td>54</td>\n",
              "      <td>1</td>\n",
              "      <td>12</td>\n",
              "    </tr>\n",
              "    <tr>\n",
              "      <th>1</th>\n",
              "      <td>1</td>\n",
              "      <td>0</td>\n",
              "      <td>33.25000</td>\n",
              "      <td>2.4200</td>\n",
              "      <td>0.005217</td>\n",
              "      <td>9.854167</td>\n",
              "      <td>no</td>\n",
              "      <td>no</td>\n",
              "      <td>3</td>\n",
              "      <td>34</td>\n",
              "      <td>1</td>\n",
              "      <td>13</td>\n",
              "    </tr>\n",
              "    <tr>\n",
              "      <th>2</th>\n",
              "      <td>1</td>\n",
              "      <td>0</td>\n",
              "      <td>33.66667</td>\n",
              "      <td>4.5000</td>\n",
              "      <td>0.004156</td>\n",
              "      <td>15.000000</td>\n",
              "      <td>yes</td>\n",
              "      <td>no</td>\n",
              "      <td>4</td>\n",
              "      <td>58</td>\n",
              "      <td>1</td>\n",
              "      <td>5</td>\n",
              "    </tr>\n",
              "    <tr>\n",
              "      <th>3</th>\n",
              "      <td>1</td>\n",
              "      <td>0</td>\n",
              "      <td>30.50000</td>\n",
              "      <td>2.5400</td>\n",
              "      <td>0.065214</td>\n",
              "      <td>137.869200</td>\n",
              "      <td>no</td>\n",
              "      <td>no</td>\n",
              "      <td>0</td>\n",
              "      <td>25</td>\n",
              "      <td>1</td>\n",
              "      <td>7</td>\n",
              "    </tr>\n",
              "    <tr>\n",
              "      <th>4</th>\n",
              "      <td>1</td>\n",
              "      <td>0</td>\n",
              "      <td>32.16667</td>\n",
              "      <td>9.7867</td>\n",
              "      <td>0.067051</td>\n",
              "      <td>546.503300</td>\n",
              "      <td>yes</td>\n",
              "      <td>no</td>\n",
              "      <td>2</td>\n",
              "      <td>64</td>\n",
              "      <td>1</td>\n",
              "      <td>5</td>\n",
              "    </tr>\n",
              "    <tr>\n",
              "      <th>5</th>\n",
              "      <td>1</td>\n",
              "      <td>0</td>\n",
              "      <td>23.25000</td>\n",
              "      <td>2.5000</td>\n",
              "      <td>0.044438</td>\n",
              "      <td>91.996670</td>\n",
              "      <td>no</td>\n",
              "      <td>no</td>\n",
              "      <td>0</td>\n",
              "      <td>54</td>\n",
              "      <td>1</td>\n",
              "      <td>1</td>\n",
              "    </tr>\n",
              "    <tr>\n",
              "      <th>6</th>\n",
              "      <td>1</td>\n",
              "      <td>0</td>\n",
              "      <td>27.91667</td>\n",
              "      <td>3.9600</td>\n",
              "      <td>0.012576</td>\n",
              "      <td>40.833330</td>\n",
              "      <td>no</td>\n",
              "      <td>no</td>\n",
              "      <td>2</td>\n",
              "      <td>7</td>\n",
              "      <td>1</td>\n",
              "      <td>5</td>\n",
              "    </tr>\n",
              "    <tr>\n",
              "      <th>7</th>\n",
              "      <td>1</td>\n",
              "      <td>0</td>\n",
              "      <td>29.16667</td>\n",
              "      <td>2.3700</td>\n",
              "      <td>0.076434</td>\n",
              "      <td>150.790000</td>\n",
              "      <td>yes</td>\n",
              "      <td>no</td>\n",
              "      <td>0</td>\n",
              "      <td>77</td>\n",
              "      <td>1</td>\n",
              "      <td>3</td>\n",
              "    </tr>\n",
              "    <tr>\n",
              "      <th>8</th>\n",
              "      <td>1</td>\n",
              "      <td>0</td>\n",
              "      <td>37.00000</td>\n",
              "      <td>3.8000</td>\n",
              "      <td>0.245628</td>\n",
              "      <td>777.821700</td>\n",
              "      <td>yes</td>\n",
              "      <td>no</td>\n",
              "      <td>0</td>\n",
              "      <td>97</td>\n",
              "      <td>1</td>\n",
              "      <td>6</td>\n",
              "    </tr>\n",
              "    <tr>\n",
              "      <th>9</th>\n",
              "      <td>1</td>\n",
              "      <td>0</td>\n",
              "      <td>28.41667</td>\n",
              "      <td>3.2000</td>\n",
              "      <td>0.019780</td>\n",
              "      <td>52.580000</td>\n",
              "      <td>no</td>\n",
              "      <td>no</td>\n",
              "      <td>0</td>\n",
              "      <td>65</td>\n",
              "      <td>1</td>\n",
              "      <td>18</td>\n",
              "    </tr>\n",
              "  </tbody>\n",
              "</table>\n",
              "</div>"
            ],
            "text/plain": [
              "   card  reports       age  income     share  expenditure owner selfemp  \\\n",
              "0     1        0  37.66667  4.5200  0.033270   124.983300   yes      no   \n",
              "1     1        0  33.25000  2.4200  0.005217     9.854167    no      no   \n",
              "2     1        0  33.66667  4.5000  0.004156    15.000000   yes      no   \n",
              "3     1        0  30.50000  2.5400  0.065214   137.869200    no      no   \n",
              "4     1        0  32.16667  9.7867  0.067051   546.503300   yes      no   \n",
              "5     1        0  23.25000  2.5000  0.044438    91.996670    no      no   \n",
              "6     1        0  27.91667  3.9600  0.012576    40.833330    no      no   \n",
              "7     1        0  29.16667  2.3700  0.076434   150.790000   yes      no   \n",
              "8     1        0  37.00000  3.8000  0.245628   777.821700   yes      no   \n",
              "9     1        0  28.41667  3.2000  0.019780    52.580000    no      no   \n",
              "\n",
              "   dependents  months  majorcards  active  \n",
              "0           3      54           1      12  \n",
              "1           3      34           1      13  \n",
              "2           4      58           1       5  \n",
              "3           0      25           1       7  \n",
              "4           2      64           1       5  \n",
              "5           0      54           1       1  \n",
              "6           2       7           1       5  \n",
              "7           0      77           1       3  \n",
              "8           0      97           1       6  \n",
              "9           0      65           1      18  "
            ]
          },
          "execution_count": 4,
          "metadata": {},
          "output_type": "execute_result"
        }
      ],
      "source": [
        "#@ CREATING THE TARGET VARIABLE:\n",
        "card_values = {\n",
        "    \"yes\": 1,\n",
        "    \"no\": 0\n",
        "}\n",
        "data[\"card\"] = data.card.map(card_values)\n",
        "data.head(10)"
      ]
    },
    {
      "cell_type": "code",
      "execution_count": 5,
      "metadata": {
        "id": "NLoLOYlQOIY_"
      },
      "outputs": [],
      "source": [
        "#@ INITIALIZING NUMERICAL AND CATEGORICAL VARIABLES:\n",
        "numerical = [\"reports\", \"age\", \"income\", \"share\", \"expenditure\", \"dependents\", \"months\", \"majorcards\", \"active\"]\n",
        "categorical = [\"owner\", \"selfemp\"]"
      ]
    },
    {
      "cell_type": "code",
      "execution_count": 6,
      "metadata": {
        "id": "DFH1e1dP73t9"
      },
      "outputs": [],
      "source": [
        "#@ SPLITTING THE DATASET:\n",
        "df_full_train, df_test = train_test_split(data, test_size=0.2, random_state=1)\n",
        "df_train, df_val = train_test_split(df_full_train, test_size=0.25, random_state=1)\n",
        "\n",
        "df_train = df_train.reset_index(drop=True)\n",
        "df_val = df_val.reset_index(drop=True)\n",
        "df_test = df_test.reset_index(drop=True)\n",
        "\n",
        "y_train = df_train.card\n",
        "y_val = df_val.card\n",
        "y_test = df_test.card\n",
        "\n",
        "del df_train['card']\n",
        "del df_val['card']\n",
        "del df_test['card']"
      ]
    },
    {
      "cell_type": "code",
      "execution_count": 7,
      "metadata": {
        "colab": {
          "base_uri": "https://localhost:8080/"
        },
        "id": "1e8h-5_8BY2f",
        "outputId": "ed9e07a6-59ca-4dd1-ec47-26824fd5f652"
      },
      "outputs": [
        {
          "name": "stdout",
          "output_type": "stream",
          "text": [
            "  reports, 0.717\n",
            "      age, 0.524\n",
            "   income, 0.591\n",
            "    share, 0.989\n",
            "expenditure, 0.991\n",
            "dependents, 0.533\n",
            "   months, 0.529\n",
            "majorcards, 0.534\n",
            "   active, 0.604\n"
          ]
        }
      ],
      "source": [
        "#@ CALCULATING ROC AUC SCORE:\n",
        "for c in numerical:\n",
        "    auc = roc_auc_score(y_train, df_train[c])\n",
        "    if auc < 0.5:\n",
        "        auc = roc_auc_score(y_train, -df_train[c])\n",
        "    print('%9s, %.3f' % (c, auc))"
      ]
    },
    {
      "cell_type": "markdown",
      "metadata": {
        "id": "u0OKzaY-B6en"
      },
      "source": [
        "- Answer for Question1: **share**"
      ]
    },
    {
      "cell_type": "code",
      "execution_count": 8,
      "metadata": {
        "colab": {
          "base_uri": "https://localhost:8080/",
          "height": 320
        },
        "id": "Grw27ZjXBxJR",
        "outputId": "0bc255ca-1c8d-4505-9e1f-fdfeb60ba911"
      },
      "outputs": [
        {
          "data": {
            "image/png": "[encoded data removed]",
            "text/plain": [
              "<Figure size 500x500 with 1 Axes>"
            ]
          },
          "metadata": {},
          "output_type": "display_data"
        }
      ],
      "source": [
        "#@ PLOTTING THE ROC CURVE:\n",
        "plt.figure(figsize=(5, 5))\n",
        "\n",
        "fpr, tpr, _ = roc_curve(y_train, df_train.share)\n",
        "plt.plot(fpr, tpr, label='+share')\n",
        "\n",
        "fpr, tpr, _ = roc_curve(y_train, -df_train.share)\n",
        "plt.plot(fpr, tpr, label='-share')\n",
        "\n",
        "plt.plot([0, 1], [0, 1], color='grey', linestyle='--')\n",
        "\n",
        "plt.legend()\n",
        "plt.show()"
      ]
    },
    {
      "cell_type": "markdown",
      "metadata": {
        "id": "PoF7l4A6DSFp"
      },
      "source": [
        "**TRAINING THE MODEL**"
      ]
    },
    {
      "cell_type": "code",
      "execution_count": 9,
      "metadata": {
        "id": "HkaRbbupDBQj"
      },
      "outputs": [],
      "source": [
        "#@ TRAINING LOGISTIC REGRESSION MODEL:\n",
        "columns = categorical + numerical\n",
        "\n",
        "train_dicts = df_train[columns].to_dict(orient='records')\n",
        "dv = DictVectorizer(sparse=False)\n",
        "X_train = dv.fit_transform(train_dicts)\n",
        "\n",
        "model = LogisticRegression(solver='liblinear', C=1.0, max_iter=1000)\n",
        "model.fit(X_train, y_train)\n",
        "\n",
        "val_dicts = df_val[columns].to_dict(orient='records')\n",
        "X_val = dv.transform(val_dicts)\n",
        "\n",
        "y_pred = model.predict_proba(X_val)[:, 1]"
      ]
    },
    {
      "cell_type": "code",
      "execution_count": 10,
      "metadata": {
        "colab": {
          "base_uri": "https://localhost:8080/"
        },
        "id": "ZiLlLqWBEuK4",
        "outputId": "b2d7866e-7fd8-44f5-a539-7d1d932a7fb9"
      },
      "outputs": [
        {
          "data": {
            "text/plain": [
              "0.995171242063847"
            ]
          },
          "execution_count": 10,
          "metadata": {},
          "output_type": "execute_result"
        }
      ],
      "source": [
        "#@ INSPECTING ROC AUC SCORE:\n",
        "roc_auc_score(y_val, y_pred)"
      ]
    },
    {
      "cell_type": "markdown",
      "metadata": {
        "id": "PFwijne6E1q9"
      },
      "source": [
        "- Answer for Question2: 0.995"
      ]
    },
    {
      "cell_type": "code",
      "execution_count": 11,
      "metadata": {
        "colab": {
          "base_uri": "https://localhost:8080/"
        },
        "id": "wF7B4VPYEy93",
        "outputId": "fea03d5d-85a1-4b59-f473-4f9ba5435239"
      },
      "outputs": [
        {
          "data": {
            "text/plain": [
              "0.9739783600107306"
            ]
          },
          "execution_count": 11,
          "metadata": {},
          "output_type": "execute_result"
        }
      ],
      "source": [
        "#@ INSPECTING THE ROC AUC SCORE:\n",
        "y_pred_bin = model.predict(X_val)\n",
        "roc_auc_score(y_val, y_pred_bin)"
      ]
    },
    {
      "cell_type": "code",
      "execution_count": 12,
      "metadata": {
        "colab": {
          "base_uri": "https://localhost:8080/",
          "height": 320
        },
        "id": "io7CXh0IFJiO",
        "outputId": "c320ea33-6c75-4648-9173-622681799d7a"
      },
      "outputs": [
        {
          "data": {
            "image/png": "[encoded data removed]",
            "text/plain": [
              "<Figure size 500x500 with 1 Axes>"
            ]
          },
          "metadata": {},
          "output_type": "display_data"
        }
      ],
      "source": [
        "#@ INSPECTING THE ROC CURVE:\n",
        "plt.figure(figsize=(5, 5))\n",
        "\n",
        "fpr, tpr, _ = roc_curve(y_val, y_pred)\n",
        "plt.plot(fpr, tpr, label='probability')\n",
        "\n",
        "fpr, tpr, _ = roc_curve(y_val, y_pred_bin)\n",
        "plt.plot(fpr, tpr, label='hard prediction')\n",
        "\n",
        "plt.plot([0, 1], [0, 1], color='grey', linestyle='--')\n",
        "\n",
        "plt.legend()\n",
        "plt.show()"
      ]
    },
    {
      "cell_type": "code",
      "execution_count": 13,
      "metadata": {
        "colab": {
          "base_uri": "https://localhost:8080/",
          "height": 394
        },
        "id": "XBBnC2UdFqN9",
        "outputId": "da5d1b49-e20e-4fca-b735-82d8e4df5d8e"
      },
      "outputs": [
        {
          "data": {
            "text/html": [
              "<div>\n",
              "<style scoped>\n",
              "    .dataframe tbody tr th:only-of-type {\n",
              "        vertical-align: middle;\n",
              "    }\n",
              "\n",
              "    .dataframe tbody tr th {\n",
              "        vertical-align: top;\n",
              "    }\n",
              "\n",
              "    .dataframe thead th {\n",
              "        text-align: right;\n",
              "    }\n",
              "</style>\n",
              "<table border=\"1\" class=\"dataframe\">\n",
              "  <thead>\n",
              "    <tr style=\"text-align: right;\">\n",
              "      <th></th>\n",
              "      <th>threshold</th>\n",
              "      <th>tp</th>\n",
              "      <th>fp</th>\n",
              "      <th>fn</th>\n",
              "      <th>tn</th>\n",
              "    </tr>\n",
              "  </thead>\n",
              "  <tbody>\n",
              "    <tr>\n",
              "      <th>0</th>\n",
              "      <td>0.0</td>\n",
              "      <td>211</td>\n",
              "      <td>53</td>\n",
              "      <td>0</td>\n",
              "      <td>0</td>\n",
              "    </tr>\n",
              "    <tr>\n",
              "      <th>10</th>\n",
              "      <td>0.1</td>\n",
              "      <td>210</td>\n",
              "      <td>17</td>\n",
              "      <td>1</td>\n",
              "      <td>36</td>\n",
              "    </tr>\n",
              "    <tr>\n",
              "      <th>20</th>\n",
              "      <td>0.2</td>\n",
              "      <td>207</td>\n",
              "      <td>5</td>\n",
              "      <td>4</td>\n",
              "      <td>48</td>\n",
              "    </tr>\n",
              "    <tr>\n",
              "      <th>30</th>\n",
              "      <td>0.3</td>\n",
              "      <td>205</td>\n",
              "      <td>5</td>\n",
              "      <td>6</td>\n",
              "      <td>48</td>\n",
              "    </tr>\n",
              "    <tr>\n",
              "      <th>40</th>\n",
              "      <td>0.4</td>\n",
              "      <td>205</td>\n",
              "      <td>1</td>\n",
              "      <td>6</td>\n",
              "      <td>52</td>\n",
              "    </tr>\n",
              "    <tr>\n",
              "      <th>50</th>\n",
              "      <td>0.5</td>\n",
              "      <td>204</td>\n",
              "      <td>1</td>\n",
              "      <td>7</td>\n",
              "      <td>52</td>\n",
              "    </tr>\n",
              "    <tr>\n",
              "      <th>60</th>\n",
              "      <td>0.6</td>\n",
              "      <td>204</td>\n",
              "      <td>1</td>\n",
              "      <td>7</td>\n",
              "      <td>52</td>\n",
              "    </tr>\n",
              "    <tr>\n",
              "      <th>70</th>\n",
              "      <td>0.7</td>\n",
              "      <td>204</td>\n",
              "      <td>1</td>\n",
              "      <td>7</td>\n",
              "      <td>52</td>\n",
              "    </tr>\n",
              "    <tr>\n",
              "      <th>80</th>\n",
              "      <td>0.8</td>\n",
              "      <td>204</td>\n",
              "      <td>1</td>\n",
              "      <td>7</td>\n",
              "      <td>52</td>\n",
              "    </tr>\n",
              "    <tr>\n",
              "      <th>90</th>\n",
              "      <td>0.9</td>\n",
              "      <td>204</td>\n",
              "      <td>0</td>\n",
              "      <td>7</td>\n",
              "      <td>53</td>\n",
              "    </tr>\n",
              "    <tr>\n",
              "      <th>100</th>\n",
              "      <td>1.0</td>\n",
              "      <td>179</td>\n",
              "      <td>0</td>\n",
              "      <td>32</td>\n",
              "      <td>53</td>\n",
              "    </tr>\n",
              "  </tbody>\n",
              "</table>\n",
              "</div>"
            ],
            "text/plain": [
              "     threshold   tp  fp  fn  tn\n",
              "0          0.0  211  53   0   0\n",
              "10         0.1  210  17   1  36\n",
              "20         0.2  207   5   4  48\n",
              "30         0.3  205   5   6  48\n",
              "40         0.4  205   1   6  52\n",
              "50         0.5  204   1   7  52\n",
              "60         0.6  204   1   7  52\n",
              "70         0.7  204   1   7  52\n",
              "80         0.8  204   1   7  52\n",
              "90         0.9  204   0   7  53\n",
              "100        1.0  179   0  32  53"
            ]
          },
          "execution_count": 13,
          "metadata": {},
          "output_type": "execute_result"
        }
      ],
      "source": [
        "#@ CREATING CONFUSION MATRIX:\n",
        "def confusion_matrix_dataframe(y_val, y_pred):\n",
        "    scores = []\n",
        "\n",
        "    thresholds = np.linspace(0, 1, 101)\n",
        "\n",
        "    for t in thresholds:\n",
        "        actual_positive = (y_val == 1)\n",
        "        actual_negative = (y_val == 0)\n",
        "\n",
        "        predict_positive = (y_pred >= t)\n",
        "        predict_negative = (y_pred < t)\n",
        "\n",
        "        tp = (predict_positive & actual_positive).sum()\n",
        "        tn = (predict_negative & actual_negative).sum()\n",
        "\n",
        "        fp = (predict_positive & actual_negative).sum()\n",
        "        fn = (predict_negative & actual_positive).sum()\n",
        "\n",
        "        scores.append((t, tp, fp, fn, tn))\n",
        "\n",
        "    columns = ['threshold', 'tp', 'fp', 'fn', 'tn']\n",
        "    df_scores = pd.DataFrame(scores, columns=columns)\n",
        "    \n",
        "    return df_scores\n",
        "\n",
        "\n",
        "#@ IMPLEMENTATION OF FUNCTION:\n",
        "df_scores = confusion_matrix_dataframe(y_val, y_pred)\n",
        "df_scores[::10]"
      ]
    },
    {
      "cell_type": "code",
      "execution_count": 14,
      "metadata": {
        "id": "Xz7FM-2-KHPB"
      },
      "outputs": [],
      "source": [
        "#@ ADDING THE COLUMNS:\n",
        "df_scores['p'] = df_scores.tp / (df_scores.tp + df_scores.fp)\n",
        "df_scores['r'] = df_scores.tp / (df_scores.tp + df_scores.fn)"
      ]
    },
    {
      "cell_type": "code",
      "execution_count": 15,
      "metadata": {
        "colab": {
          "base_uri": "https://localhost:8080/",
          "height": 265
        },
        "id": "9nNXk0HtKkBC",
        "outputId": "d0289fe5-ac95-41fd-b036-440a25159431"
      },
      "outputs": [
        {
          "data": {
            "image/png": "[encoded data removed]",
            "text/plain": [
              "<Figure size 640x480 with 1 Axes>"
            ]
          },
          "metadata": {},
          "output_type": "display_data"
        }
      ],
      "source": [
        "#@ INSPECTING THE CURVES:\n",
        "plt.plot(df_scores.threshold, df_scores.p, label='precision')\n",
        "plt.plot(df_scores.threshold, df_scores.r, label='recall')\n",
        "\n",
        "plt.legend()\n",
        "plt.show()"
      ]
    },
    {
      "cell_type": "markdown",
      "metadata": {
        "id": "ZFMJZ8fWLV3a"
      },
      "source": [
        "- Answer for Question3: ~= 0.3"
      ]
    },
    {
      "cell_type": "code",
      "execution_count": 16,
      "metadata": {
        "id": "WwBzhzngK8QI"
      },
      "outputs": [],
      "source": [
        "#@ GETTING F1 SCORES:\n",
        "df_scores['f1'] = 2 * df_scores.p * df_scores.r / (df_scores.p + df_scores.r)"
      ]
    },
    {
      "cell_type": "code",
      "execution_count": 17,
      "metadata": {
        "colab": {
          "base_uri": "https://localhost:8080/",
          "height": 265
        },
        "id": "XUZYKM99MD5-",
        "outputId": "b5c2f0e4-c972-4615-e8aa-732c6a40acd4"
      },
      "outputs": [
        {
          "data": {
            "image/png": "[encoded data removed]",
            "text/plain": [
              "<Figure size 640x480 with 1 Axes>"
            ]
          },
          "metadata": {},
          "output_type": "display_data"
        }
      ],
      "source": [
        "#@ INSPECTING F1 SCORE:\n",
        "plt.plot(df_scores.threshold, df_scores.f1)\n",
        "plt.xticks(np.linspace(0, 1, 11))\n",
        "plt.show()"
      ]
    },
    {
      "cell_type": "markdown",
      "metadata": {
        "id": "FN9QStJpMtip"
      },
      "source": [
        "- Answer for Question4: ~=0.4 or ~=0.8"
      ]
    },
    {
      "cell_type": "code",
      "execution_count": 18,
      "metadata": {
        "id": "7BUnlQQSMTHE"
      },
      "outputs": [],
      "source": [
        "#@ DEFINING TRAIN AND PREDICT FUNCTION:\n",
        "def train(df_train, y_train, C=1.0):\n",
        "    dicts = df_train[columns].to_dict(orient='records')\n",
        "\n",
        "    dv = DictVectorizer(sparse=False)\n",
        "    X_train = dv.fit_transform(dicts)\n",
        "\n",
        "    model = LogisticRegression(solver='liblinear', C=C)\n",
        "    model.fit(X_train, y_train)\n",
        "\n",
        "    return dv, model\n",
        "\n",
        "def predict(df, dv, model):\n",
        "    dicts = df[columns].to_dict(orient='records')\n",
        "\n",
        "    X = dv.transform(dicts)\n",
        "    y_pred = model.predict_proba(X)[:, 1]\n",
        "\n",
        "    return y_pred"
      ]
    },
    {
      "cell_type": "code",
      "execution_count": 19,
      "metadata": {
        "colab": {
          "base_uri": "https://localhost:8080/"
        },
        "id": "scPilB8sNQkF",
        "outputId": "9f184d71-4546-4472-e519-d8af21204c60"
      },
      "outputs": [
        {
          "name": "stdout",
          "output_type": "stream",
          "text": [
            "0.996 +- 0.003\n"
          ]
        }
      ],
      "source": [
        "#@ INITIALIZING KFOLD CROSS VALIDATION:\n",
        "scores = []\n",
        "\n",
        "kfold = KFold(n_splits=5, shuffle=True, random_state=1)\n",
        "\n",
        "for train_idx, val_idx in kfold.split(df_full_train):\n",
        "    df_train = df_full_train.iloc[train_idx]\n",
        "    df_val = df_full_train.iloc[val_idx]\n",
        "\n",
        "    y_train = df_train.card\n",
        "    y_val = df_val.card\n",
        "\n",
        "    dv, model = train(df_train, y_train, C=1.0)\n",
        "    y_pred = predict(df_val, dv, model)\n",
        "\n",
        "    auc = roc_auc_score(y_val, y_pred)\n",
        "    scores.append(auc)\n",
        "\n",
        "print('%.3f +- %.3f' % (np.mean(scores), np.std(scores)))"
      ]
    },
    {
      "cell_type": "markdown",
      "metadata": {
        "id": "9I6Txx8dNtAG"
      },
      "source": [
        "- Answer for Question5: 0.003"
      ]
    },
    {
      "cell_type": "code",
      "execution_count": 20,
      "metadata": {
        "colab": {
          "base_uri": "https://localhost:8080/"
        },
        "id": "TPfZn98TNh3Q",
        "outputId": "a56cd3a9-9efe-480b-ae57-b93d2099a11a"
      },
      "outputs": [
        {
          "name": "stdout",
          "output_type": "stream",
          "text": [
            "C=0.01, 0.992 +- 0.006\n",
            "C= 0.1, 0.995 +- 0.004\n",
            "C=   1, 0.996 +- 0.003\n",
            "C=  10, 0.996 +- 0.003\n"
          ]
        }
      ],
      "source": [
        "#@ INSPECTING KFOLD CROSS VALIDATION:\n",
        "kfold = KFold(n_splits=5, shuffle=True, random_state=1)\n",
        "\n",
        "for C in [0.01, 0.1, 1, 10]:\n",
        "    scores = []\n",
        "\n",
        "    for train_idx, val_idx in kfold.split(df_full_train):\n",
        "        df_train = df_full_train.iloc[train_idx]\n",
        "        df_val = df_full_train.iloc[val_idx]\n",
        "\n",
        "        y_train = df_train.card\n",
        "        y_val = df_val.card\n",
        "\n",
        "        dv, model = train(df_train, y_train, C=C)\n",
        "        y_pred = predict(df_val, dv, model)\n",
        "\n",
        "        auc = roc_auc_score(y_val, y_pred)\n",
        "        scores.append(auc)\n",
        "\n",
        "    print('C=%4s, %.3f +- %.3f' % (C, np.mean(scores), np.std(scores)))"
      ]
    },
    {
      "cell_type": "markdown",
      "metadata": {
        "id": "CIa3rZUZONzY"
      },
      "source": [
        "- Answer for Question6: 1"
      ]
    }
  ],
  "metadata": {
    "colab": {
      "provenance": []
    },
    "kernelspec": {
      "display_name": "ml-zoomcamp",
      "language": "python",
      "name": "python3"
    },
    "language_info": {
      "codemirror_mode": {
        "name": "ipython",
        "version": 3
      },
      "file_extension": ".py",
      "mimetype": "text/x-python",
      "name": "python",
      "nbconvert_exporter": "python",
      "pygments_lexer": "ipython3",
      "version": "3.9.19"
    }
  },
  "nbformat": 4,
  "nbformat_minor": 0
}
